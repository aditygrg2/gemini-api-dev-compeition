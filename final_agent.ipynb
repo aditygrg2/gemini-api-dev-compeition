{
 "cells": [
  {
   "cell_type": "code",
   "execution_count": 122,
   "metadata": {},
   "outputs": [],
   "source": [
    "import os\n",
    "\n",
    "PROJECT_ID = \"swift-kiln-380818\"\n",
    "LOCATION = \"us-central1\"\n",
    "\n",
    "os.environ[\"GOOGLE_APPLICATION_CREDENTIALS\"] = \"/Users/aditygrg/.config/gcloud/application_default_credentials.json\"\n",
    "\n",
    "import vertexai\n",
    "from vertexai.generative_models import GenerativeModel, ChatSession\n",
    "\n",
    "vertexai.init(location=LOCATION, project=PROJECT_ID)"
   ]
  },
  {
   "cell_type": "code",
   "execution_count": 123,
   "metadata": {},
   "outputs": [],
   "source": [
    "import requests\n",
    "from vertexai.generative_models import (\n",
    "    Content,\n",
    "    FunctionDeclaration,\n",
    "    GenerationConfig,\n",
    "    GenerativeModel,\n",
    "    SafetySetting,\n",
    "    HarmCategory,\n",
    "    HarmBlockThreshold,\n",
    "    Part,\n",
    "    Tool,\n",
    ")\n",
    "from vertexai.preview import rag"
   ]
  },
  {
   "cell_type": "code",
   "execution_count": 224,
   "metadata": {},
   "outputs": [],
   "source": [
    "get_data_of_user = FunctionDeclaration(\n",
    "    name = \"get_data_of_user\",\n",
    "    description = \n",
    "    \"\"\"\n",
    "        Do not mock up any info, ask here if you need any info.\n",
    "        Get data of User, his orders, product, transactions, items info and any other profile details.\n",
    "    \"\"\",\n",
    "    parameters = {\n",
    "        \"type\": \"object\",\n",
    "        \"properties\": {\"query\": {\"type\": \"string\"}},\n",
    "    }\n",
    ")\n",
    "\n",
    "get_answers_to_general_help = FunctionDeclaration(\n",
    "    name = \"get_answers_to_general_help\",\n",
    "    description = \"Get answers for everything about Amazon, but not user related. It contains information of all Amazon Help docs.\",\n",
    "    parameters = {\n",
    "        \"type\": \"object\",\n",
    "        \"properties\": {\"query\": {\"type\": \"string\"}},\n",
    "    }\n",
    ")\n",
    "\n",
    "terminate_if_satisfied = FunctionDeclaration(\n",
    "    name = \"terminate_if_satisfied\",\n",
    "    description = \"Checks if the user seems satisfied with the answer and terminates the chat accordingly.\",\n",
    "    parameters = {\n",
    "        \"type\": \"object\",\n",
    "        \"properties\": {\"feedback_user\": {\"type\": \"string\"}},\n",
    "    }\n",
    ")\n",
    "\n",
    "send_to_agent_for_manual_intervention = FunctionDeclaration(\n",
    "    name = \"send_to_agent_for_manual_intervention\",\n",
    "    description = \"Sends the query to a human agent for manual intervention when the LLM is unable to process it.\",\n",
    "    parameters = {\n",
    "        \"type\": \"object\",\n",
    "        \"properties\": {\"query\": {\"type\": \"string\"}},\n",
    "    }\n",
    ")"
   ]
  },
  {
   "cell_type": "code",
   "execution_count": 225,
   "metadata": {},
   "outputs": [],
   "source": [
    "#Implementation 1\n",
    "\n",
    "retail_tool = Tool(\n",
    "    function_declarations=[\n",
    "        get_data_of_user,\n",
    "        get_answers_to_general_help,\n",
    "        terminate_if_satisfied,\n",
    "        send_to_agent_for_manual_intervention\n",
    "    ],\n",
    ")"
   ]
  },
  {
   "cell_type": "code",
   "execution_count": 226,
   "metadata": {},
   "outputs": [],
   "source": [
    "SYSTEM_INSTRUCTION = \"\"\"\n",
    "    Your name is Radhika from Amazon Customer Support Agent Team.\n",
    "\n",
    "    You are on a call. \n",
    "    \n",
    "    You can use any of the tools for help \n",
    "    get_data_of_user,\n",
    "    get_answers_to_general_help,\n",
    "    terminate_if_satisfied,\n",
    "    send_to_agent_for_manual_intervention\n",
    "\n",
    "    Do not verify anything about user because he is already verified.\n",
    "\n",
    "    You can ask user if you need any details.\n",
    "    \n",
    "    If you are unable to find the answer, forward the call to agent by calling 'send_to_agent_for_manual_intervention'\n",
    "\n",
    "    You can only tell the user about things, you cannot help if any thing needs to be executed. \n",
    "    For example, you cannot execute an return but you can only tell info about it.\n",
    "\n",
    "    DO NOT MAKE UP ANSWERS/DETAILS OF YOUR OWN.\n",
    "\"\"\""
   ]
  },
  {
   "cell_type": "code",
   "execution_count": 227,
   "metadata": {},
   "outputs": [],
   "source": [
    "model = GenerativeModel(\n",
    "    \"gemini-1.5-pro-001\",\n",
    "    generation_config=GenerationConfig(temperature=0.5),\n",
    "    tools=[retail_tool],\n",
    "    system_instruction=SYSTEM_INSTRUCTION,\n",
    ")\n",
    "chat = model.start_chat(response_validation=False)"
   ]
  },
  {
   "cell_type": "code",
   "execution_count": 228,
   "metadata": {},
   "outputs": [
    {
     "data": {
      "text/plain": [
       "text: \"Hello! I understand you are calling to cancel an order that was placed accidentally, is that correct? \\n\""
      ]
     },
     "execution_count": 228,
     "metadata": {},
     "output_type": "execute_result"
    }
   ],
   "source": [
    "response = chat.send_message(\"Hi, I accidentally placed an order for the wrong item. Is there any way to cancel it before it ships?\")\n",
    "response.candidates[0].content.parts[0]"
   ]
  },
  {
   "cell_type": "code",
   "execution_count": 229,
   "metadata": {},
   "outputs": [
    {
     "data": {
      "text/plain": [
       "candidates {\n",
       "  content {\n",
       "    role: \"model\"\n",
       "    parts {\n",
       "      text: \"Hello! I understand you are calling to cancel an order that was placed accidentally, is that correct? \\n\"\n",
       "    }\n",
       "  }\n",
       "  finish_reason: STOP\n",
       "  safety_ratings {\n",
       "    category: HARM_CATEGORY_HATE_SPEECH\n",
       "    probability: NEGLIGIBLE\n",
       "    probability_score: 0.0766838044\n",
       "    severity: HARM_SEVERITY_NEGLIGIBLE\n",
       "    severity_score: 0.0664479285\n",
       "  }\n",
       "  safety_ratings {\n",
       "    category: HARM_CATEGORY_DANGEROUS_CONTENT\n",
       "    probability: NEGLIGIBLE\n",
       "    probability_score: 0.0468120314\n",
       "    severity: HARM_SEVERITY_NEGLIGIBLE\n",
       "    severity_score: 0.0904137269\n",
       "  }\n",
       "  safety_ratings {\n",
       "    category: HARM_CATEGORY_HARASSMENT\n",
       "    probability: NEGLIGIBLE\n",
       "    probability_score: 0.210441604\n",
       "    severity: HARM_SEVERITY_NEGLIGIBLE\n",
       "    severity_score: 0.0940101817\n",
       "  }\n",
       "  safety_ratings {\n",
       "    category: HARM_CATEGORY_SEXUALLY_EXPLICIT\n",
       "    probability: NEGLIGIBLE\n",
       "    probability_score: 0.0497734509\n",
       "    severity: HARM_SEVERITY_NEGLIGIBLE\n",
       "    severity_score: 0.0565481335\n",
       "  }\n",
       "}\n",
       "usage_metadata {\n",
       "  prompt_token_count: 354\n",
       "  candidates_token_count: 22\n",
       "  total_token_count: 376\n",
       "}"
      ]
     },
     "execution_count": 229,
     "metadata": {},
     "output_type": "execute_result"
    }
   ],
   "source": [
    "response"
   ]
  },
  {
   "cell_type": "code",
   "execution_count": 221,
   "metadata": {},
   "outputs": [],
   "source": [
    "response = chat.send_message(\"2345675432\")"
   ]
  },
  {
   "cell_type": "code",
   "execution_count": 222,
   "metadata": {},
   "outputs": [],
   "source": [
    "function_called_response = response"
   ]
  },
  {
   "cell_type": "code",
   "execution_count": 223,
   "metadata": {},
   "outputs": [
    {
     "data": {
      "text/plain": [
       "candidates {\n",
       "  content {\n",
       "    role: \"model\"\n",
       "    parts {\n",
       "      text: \"Hello! I understand you are calling to cancel an order placed accidentally, is that right? \\n\"\n",
       "    }\n",
       "  }\n",
       "  finish_reason: STOP\n",
       "  safety_ratings {\n",
       "    category: HARM_CATEGORY_HATE_SPEECH\n",
       "    probability: NEGLIGIBLE\n",
       "    probability_score: 0.0476912819\n",
       "    severity: HARM_SEVERITY_NEGLIGIBLE\n",
       "    severity_score: 0.0490396284\n",
       "  }\n",
       "  safety_ratings {\n",
       "    category: HARM_CATEGORY_DANGEROUS_CONTENT\n",
       "    probability: NEGLIGIBLE\n",
       "    probability_score: 0.0652465671\n",
       "    severity: HARM_SEVERITY_NEGLIGIBLE\n",
       "    severity_score: 0.08464396\n",
       "  }\n",
       "  safety_ratings {\n",
       "    category: HARM_CATEGORY_HARASSMENT\n",
       "    probability: NEGLIGIBLE\n",
       "    probability_score: 0.157784641\n",
       "    severity: HARM_SEVERITY_NEGLIGIBLE\n",
       "    severity_score: 0.0793528929\n",
       "  }\n",
       "  safety_ratings {\n",
       "    category: HARM_CATEGORY_SEXUALLY_EXPLICIT\n",
       "    probability: NEGLIGIBLE\n",
       "    probability_score: 0.0543993153\n",
       "    severity: HARM_SEVERITY_NEGLIGIBLE\n",
       "    severity_score: 0.053601142\n",
       "  }\n",
       "}\n",
       "usage_metadata {\n",
       "  prompt_token_count: 427\n",
       "  candidates_token_count: 20\n",
       "  total_token_count: 447\n",
       "}"
      ]
     },
     "execution_count": 223,
     "metadata": {},
     "output_type": "execute_result"
    }
   ],
   "source": [
    "function_called_response"
   ]
  },
  {
   "cell_type": "code",
   "execution_count": 200,
   "metadata": {},
   "outputs": [],
   "source": [
    "response = chat.send_message(\n",
    "    Part.from_function_response(\n",
    "        name=\"get_order_details\",\n",
    "        response={\n",
    "            \"content\": \"I couldnt find this order detail\",\n",
    "        },\n",
    "    ),\n",
    ")"
   ]
  },
  {
   "cell_type": "code",
   "execution_count": 201,
   "metadata": {},
   "outputs": [
    {
     "data": {
      "text/plain": [
       "candidates {\n",
       "  content {\n",
       "    role: \"model\"\n",
       "    parts {\n",
       "      text: \"I am sorry, I am unable to locate an order with that id. Could you please double check the order id? \\n\"\n",
       "    }\n",
       "  }\n",
       "  finish_reason: STOP\n",
       "  safety_ratings {\n",
       "    category: HARM_CATEGORY_HATE_SPEECH\n",
       "    probability: NEGLIGIBLE\n",
       "    probability_score: 0.0329612382\n",
       "    severity: HARM_SEVERITY_NEGLIGIBLE\n",
       "    severity_score: 0.0409223028\n",
       "  }\n",
       "  safety_ratings {\n",
       "    category: HARM_CATEGORY_DANGEROUS_CONTENT\n",
       "    probability: NEGLIGIBLE\n",
       "    probability_score: 0.217836261\n",
       "    severity: HARM_SEVERITY_NEGLIGIBLE\n",
       "    severity_score: 0.0177803896\n",
       "  }\n",
       "  safety_ratings {\n",
       "    category: HARM_CATEGORY_HARASSMENT\n",
       "    probability: NEGLIGIBLE\n",
       "    probability_score: 0.0338440351\n",
       "    severity: HARM_SEVERITY_NEGLIGIBLE\n",
       "    severity_score: 0.0138486102\n",
       "  }\n",
       "  safety_ratings {\n",
       "    category: HARM_CATEGORY_SEXUALLY_EXPLICIT\n",
       "    probability: NEGLIGIBLE\n",
       "    probability_score: 0.0915444046\n",
       "    severity: HARM_SEVERITY_NEGLIGIBLE\n",
       "    severity_score: 0.0316187665\n",
       "  }\n",
       "}\n",
       "usage_metadata {\n",
       "  prompt_token_count: 434\n",
       "  candidates_token_count: 26\n",
       "  total_token_count: 460\n",
       "}"
      ]
     },
     "execution_count": 201,
     "metadata": {},
     "output_type": "execute_result"
    }
   ],
   "source": [
    "response"
   ]
  },
  {
   "cell_type": "code",
   "execution_count": 51,
   "metadata": {},
   "outputs": [],
   "source": [
    "safety_config = [\n",
    "            SafetySetting(\n",
    "                category=HarmCategory.HARM_CATEGORY_UNSPECIFIED,\n",
    "                threshold=HarmBlockThreshold.BLOCK_NONE\n",
    "            ),\n",
    "            SafetySetting(\n",
    "                category=HarmCategory.HARM_CATEGORY_DANGEROUS_CONTENT,\n",
    "                threshold=HarmBlockThreshold.BLOCK_NONE\n",
    "            ),\n",
    "            SafetySetting(\n",
    "                category=HarmCategory.HARM_CATEGORY_HARASSMENT,\n",
    "                threshold=HarmBlockThreshold.BLOCK_NONE\n",
    "            ),\n",
    "            SafetySetting(\n",
    "                category=HarmCategory.HARM_CATEGORY_HATE_SPEECH,\n",
    "                threshold=HarmBlockThreshold.BLOCK_NONE\n",
    "            ),\n",
    "            SafetySetting(\n",
    "                category=HarmCategory.HARM_CATEGORY_SEXUALLY_EXPLICIT,\n",
    "                threshold=HarmBlockThreshold.BLOCK_NONE\n",
    "            )\n",
    "        ]\n"
   ]
  },
  {
   "cell_type": "code",
   "execution_count": 301,
   "metadata": {},
   "outputs": [],
   "source": [
    "messages = [\n",
    "    (\"User\", prompt),\n",
    "    (\"AI\", \"Welcome to Amazon! Hope you are having a good day.\\n\\nI understand you are facing some difficulties in ordering data. I am more than happy to help!\\n\\nBefore we proceed, for security purposes, could you please provide me with the pin code associated with your Amazon account?\\n\"),\n",
    "    (\"Human\", \"I dont know my pin code\"),\n",
    "]"
   ]
  },
  {
   "cell_type": "code",
   "execution_count": 302,
   "metadata": {},
   "outputs": [],
   "source": [
    "def convert_to_str(messages):\n",
    "    ans = \"\"\n",
    "    for i in messages:\n",
    "        ans += i[0] + \" : \" + i[1] + \"\\n\"\n",
    "\n",
    "    return ans"
   ]
  },
  {
   "cell_type": "code",
   "execution_count": 304,
   "metadata": {},
   "outputs": [],
   "source": [
    "res = chat.send_message(convert_to_str(messages), safety_settings=safety_config)"
   ]
  },
  {
   "cell_type": "code",
   "execution_count": 305,
   "metadata": {},
   "outputs": [
    {
     "data": {
      "text/plain": [
       "function_call {\n",
       "  name: \"get_user_data\"\n",
       "  args {\n",
       "    fields {\n",
       "      key: \"phone_number\"\n",
       "      value {\n",
       "        string_value: \"932489237\"\n",
       "      }\n",
       "    }\n",
       "  }\n",
       "}"
      ]
     },
     "execution_count": 305,
     "metadata": {},
     "output_type": "execute_result"
    }
   ],
   "source": [
    "res.candidates[0].content.parts[0]"
   ]
  },
  {
   "cell_type": "code",
   "execution_count": 306,
   "metadata": {},
   "outputs": [],
   "source": [
    "messages = [\n",
    "    (\"User\", prompt),\n",
    "    (\"AI\", \"Welcome to Amazon! Hope you are having a good day.\\n\\nI understand you are facing some difficulties in ordering data. I am more than happy to help!\\n\\nBefore we proceed, for security purposes, could you please provide me with the pin code associated with your Amazon account?\\n\"),\n",
    "    (\"Human\", \"I dont know my pin code\"),\n",
    "    (\"AI\", \"That\\'s alright! Can you please provide me with the city and state associated with your Amazon account? \\n\"),\n",
    "    (\"Human\", \"My city is Indore\")\n",
    "]"
   ]
  },
  {
   "cell_type": "code",
   "execution_count": 307,
   "metadata": {},
   "outputs": [],
   "source": [
    "res = chat.send_message(convert_to_str(messages), safety_settings=safety_config)"
   ]
  },
  {
   "cell_type": "code",
   "execution_count": 308,
   "metadata": {},
   "outputs": [
    {
     "data": {
      "text/plain": [
       "candidates {\n",
       "  content {\n",
       "    role: \"model\"\n",
       "    parts {\n",
       "      text: \"That\\'s alright! Could you please also tell me the state associated with your Amazon account? \\n\"\n",
       "    }\n",
       "  }\n",
       "  finish_reason: STOP\n",
       "  safety_ratings {\n",
       "    category: HARM_CATEGORY_HATE_SPEECH\n",
       "    probability: NEGLIGIBLE\n",
       "    probability_score: 0.0987725928\n",
       "    severity: HARM_SEVERITY_NEGLIGIBLE\n",
       "    severity_score: 0.103930376\n",
       "  }\n",
       "  safety_ratings {\n",
       "    category: HARM_CATEGORY_DANGEROUS_CONTENT\n",
       "    probability: NEGLIGIBLE\n",
       "    probability_score: 0.318061382\n",
       "    severity: HARM_SEVERITY_LOW\n",
       "    severity_score: 0.341582507\n",
       "  }\n",
       "  safety_ratings {\n",
       "    category: HARM_CATEGORY_HARASSMENT\n",
       "    probability: NEGLIGIBLE\n",
       "    probability_score: 0.107812636\n",
       "    severity: HARM_SEVERITY_NEGLIGIBLE\n",
       "    severity_score: 0.0872522444\n",
       "  }\n",
       "  safety_ratings {\n",
       "    category: HARM_CATEGORY_SEXUALLY_EXPLICIT\n",
       "    probability: NEGLIGIBLE\n",
       "    probability_score: 0.105210543\n",
       "    severity: HARM_SEVERITY_NEGLIGIBLE\n",
       "    severity_score: 0.0699218363\n",
       "  }\n",
       "}\n",
       "usage_metadata {\n",
       "  prompt_token_count: 868\n",
       "  candidates_token_count: 21\n",
       "  total_token_count: 889\n",
       "}"
      ]
     },
     "execution_count": 308,
     "metadata": {},
     "output_type": "execute_result"
    }
   ],
   "source": [
    "res"
   ]
  },
  {
   "cell_type": "code",
   "execution_count": 309,
   "metadata": {},
   "outputs": [],
   "source": [
    "messages = [\n",
    "    (\"User\", prompt),\n",
    "    (\"AI\", \"Welcome to Amazon! Hope you are having a good day.\\n\\nI understand you are facing some difficulties in ordering data. I am more than happy to help!\\n\\nBefore we proceed, for security purposes, could you please provide me with the pin code associated with your Amazon account?\\n\"),\n",
    "    (\"Human\", \"I dont know my pin code\"),\n",
    "    (\"AI\", \"That\\'s alright! Can you please provide me with the city and state associated with your Amazon account? \\n\"),\n",
    "    (\"Human\", \"My city is Indore\"),\n",
    "    (\"AI\", \"That\\'s alright! Could you please also tell me the state associated with your Amazon account? \\n\"),\n",
    "    (\"Human\", \"Madhya Pradesh\")\n",
    "]"
   ]
  },
  {
   "cell_type": "code",
   "execution_count": 310,
   "metadata": {},
   "outputs": [],
   "source": [
    "res = chat.send_message(convert_to_str(messages), safety_settings=safety_config)"
   ]
  },
  {
   "cell_type": "code",
   "execution_count": 311,
   "metadata": {},
   "outputs": [
    {
     "data": {
      "text/plain": [
       "candidates {\n",
       "  content {\n",
       "    role: \"model\"\n",
       "    parts {\n",
       "      function_call {\n",
       "        name: \"get_user_data\"\n",
       "        args {\n",
       "          fields {\n",
       "            key: \"phone_number\"\n",
       "            value {\n",
       "              string_value: \"932489237\"\n",
       "            }\n",
       "          }\n",
       "        }\n",
       "      }\n",
       "    }\n",
       "  }\n",
       "  finish_reason: STOP\n",
       "  safety_ratings {\n",
       "    category: HARM_CATEGORY_HATE_SPEECH\n",
       "    probability: NEGLIGIBLE\n",
       "    probability_score: 0.192084283\n",
       "    severity: HARM_SEVERITY_NEGLIGIBLE\n",
       "    severity_score: 0.114963353\n",
       "  }\n",
       "  safety_ratings {\n",
       "    category: HARM_CATEGORY_DANGEROUS_CONTENT\n",
       "    probability: MEDIUM\n",
       "    probability_score: 0.751648128\n",
       "    severity: HARM_SEVERITY_MEDIUM\n",
       "    severity_score: 0.544619739\n",
       "  }\n",
       "  safety_ratings {\n",
       "    category: HARM_CATEGORY_HARASSMENT\n",
       "    probability: NEGLIGIBLE\n",
       "    probability_score: 0.169131249\n",
       "    severity: HARM_SEVERITY_NEGLIGIBLE\n",
       "    severity_score: 0.134094119\n",
       "  }\n",
       "  safety_ratings {\n",
       "    category: HARM_CATEGORY_SEXUALLY_EXPLICIT\n",
       "    probability: NEGLIGIBLE\n",
       "    probability_score: 0.207857162\n",
       "    severity: HARM_SEVERITY_NEGLIGIBLE\n",
       "    severity_score: 0.0726367\n",
       "  }\n",
       "}\n",
       "usage_metadata {\n",
       "  prompt_token_count: 1167\n",
       "  candidates_token_count: 17\n",
       "  total_token_count: 1184\n",
       "}"
      ]
     },
     "execution_count": 311,
     "metadata": {},
     "output_type": "execute_result"
    }
   ],
   "source": [
    "res"
   ]
  },
  {
   "cell_type": "code",
   "execution_count": null,
   "metadata": {},
   "outputs": [],
   "source": [
    "response_confirm = res"
   ]
  },
  {
   "cell_type": "code",
   "execution_count": null,
   "metadata": {},
   "outputs": [
    {
     "name": "stdout",
     "output_type": "stream",
     "text": [
      "True\n"
     ]
    }
   ],
   "source": [
    "print(not response_confirm.candidates[0].content.parts[0].function_call)"
   ]
  },
  {
   "cell_type": "code",
   "execution_count": 312,
   "metadata": {},
   "outputs": [
    {
     "data": {
      "text/plain": [
       "content {\n",
       "  role: \"model\"\n",
       "  parts {\n",
       "    function_call {\n",
       "      name: \"get_user_data\"\n",
       "      args {\n",
       "        fields {\n",
       "          key: \"phone_number\"\n",
       "          value {\n",
       "            string_value: \"932489237\"\n",
       "          }\n",
       "        }\n",
       "      }\n",
       "    }\n",
       "  }\n",
       "}\n",
       "finish_reason: STOP\n",
       "safety_ratings {\n",
       "  category: HARM_CATEGORY_HATE_SPEECH\n",
       "  probability: NEGLIGIBLE\n",
       "  probability_score: 0.192084283\n",
       "  severity: HARM_SEVERITY_NEGLIGIBLE\n",
       "  severity_score: 0.114963353\n",
       "}\n",
       "safety_ratings {\n",
       "  category: HARM_CATEGORY_DANGEROUS_CONTENT\n",
       "  probability: MEDIUM\n",
       "  probability_score: 0.751648128\n",
       "  severity: HARM_SEVERITY_MEDIUM\n",
       "  severity_score: 0.544619739\n",
       "}\n",
       "safety_ratings {\n",
       "  category: HARM_CATEGORY_HARASSMENT\n",
       "  probability: NEGLIGIBLE\n",
       "  probability_score: 0.169131249\n",
       "  severity: HARM_SEVERITY_NEGLIGIBLE\n",
       "  severity_score: 0.134094119\n",
       "}\n",
       "safety_ratings {\n",
       "  category: HARM_CATEGORY_SEXUALLY_EXPLICIT\n",
       "  probability: NEGLIGIBLE\n",
       "  probability_score: 0.207857162\n",
       "  severity: HARM_SEVERITY_NEGLIGIBLE\n",
       "  severity_score: 0.0726367\n",
       "}"
      ]
     },
     "execution_count": 312,
     "metadata": {},
     "output_type": "execute_result"
    }
   ],
   "source": [
    "res.candidates[0]"
   ]
  },
  {
   "cell_type": "code",
   "execution_count": null,
   "metadata": {},
   "outputs": [
    {
     "data": {
      "text/plain": [
       "text: \"Sorry, we were unable to verify your details. Thank you for contacting Amazon! \\n\""
      ]
     },
     "execution_count": 58,
     "metadata": {},
     "output_type": "execute_result"
    }
   ],
   "source": [
    "response = chat.send_message(\n",
    "    Part.from_function_response(\n",
    "        name=\"user_not_verified\",\n",
    "        response={\n",
    "            \"content\": \"Sorry, we were unable to verify your details. Thank you for contacting Amazon!\",\n",
    "        },\n",
    "    ),\n",
    ")\n",
    "response.candidates[0].content.parts[0]"
   ]
  },
  {
   "cell_type": "code",
   "execution_count": null,
   "metadata": {},
   "outputs": [],
   "source": [
    "prompt = \"\"\"\n",
    "What about the Pixel 8? Is there a store in\n",
    "Mountain View, CA that I can visit to try one out?\n",
    "\"\"\"\n",
    "\n",
    "response = chat.send_message(prompt)\n",
    "response.candidates[0].content.parts[0]"
   ]
  },
  {
   "cell_type": "code",
   "execution_count": null,
   "metadata": {},
   "outputs": [],
   "source": [
    "# Here you can use your preferred method to make an API request and get a response.\n",
    "# In this example, we'll use synthetic data to simulate a payload from an external API response.\n",
    "\n",
    "api_response = {\"store\": \"2000 N Shoreline Blvd, Mountain View, CA 94043, US\"}"
   ]
  },
  {
   "cell_type": "code",
   "execution_count": null,
   "metadata": {},
   "outputs": [],
   "source": [
    "response = chat.send_message(\n",
    "    Part.from_function_response(\n",
    "        name=\"get_store_location\",\n",
    "        response={\n",
    "            \"content\": api_response,\n",
    "        },\n",
    "    ),\n",
    ")\n",
    "response.candidates[0].content.parts[0]"
   ]
  },
  {
   "cell_type": "code",
   "execution_count": null,
   "metadata": {},
   "outputs": [],
   "source": [
    "api_response = {\"sku\": \"GA08475-US\", \"in_stock\": \"yes\"}"
   ]
  },
  {
   "cell_type": "code",
   "execution_count": null,
   "metadata": {},
   "outputs": [],
   "source": [
    "response = chat.send_message(\n",
    "    Part.from_function_response(\n",
    "        name=\"get_product_info\",\n",
    "        response={\n",
    "            \"content\": api_response,\n",
    "        },\n",
    "    ),\n",
    ")\n",
    "response.candidates[0].content.parts[0]"
   ]
  },
  {
   "cell_type": "code",
   "execution_count": null,
   "metadata": {},
   "outputs": [],
   "source": [
    "prompt = \"\"\"\n",
    "I'd like to order a Pixel 8 Pro and have it shipped to 1155 Borregas Ave, Sunnyvale, CA 94089.\n",
    "\"\"\"\n",
    "\n",
    "response = chat.send_message(prompt)\n",
    "response.candidates[0].content.parts[0]"
   ]
  },
  {
   "cell_type": "code",
   "execution_count": null,
   "metadata": {},
   "outputs": [],
   "source": [
    "api_response = {\n",
    "    \"payment_status\": \"paid\",\n",
    "    \"order_number\": 12345,\n",
    "    \"est_arrival\": \"2 days\",\n",
    "}"
   ]
  },
  {
   "cell_type": "code",
   "execution_count": null,
   "metadata": {},
   "outputs": [],
   "source": [
    "\n",
    "response.candidates[0].content.parts[0]"
   ]
  },
  {
   "cell_type": "code",
   "execution_count": 368,
   "metadata": {},
   "outputs": [
    {
     "name": "stdout",
     "output_type": "stream",
     "text": [
      "['amazon_data', 'admin', 'local']\n"
     ]
    }
   ],
   "source": [
    "from mongoengine import connect\n",
    "from dotenv import load_dotenv\n",
    "import os\n",
    "import models.address as Address, models.orders as Order, models.product as Product, models.transactionDetail as Transaction, models.user as User\n",
    "import json as JSON\n",
    "from bson.json_util import dumps\n",
    "\n",
    "load_dotenv()\n",
    "\n",
    "client = connect(host=os.environ['MONGO_URL'])\n",
    "\n",
    "all_users = client.list_database_names()\n",
    "print(all_users)"
   ]
  },
  {
   "cell_type": "code",
   "execution_count": 369,
   "metadata": {},
   "outputs": [],
   "source": [
    "db = client['amazon_data']"
   ]
  },
  {
   "cell_type": "code",
   "execution_count": 394,
   "metadata": {},
   "outputs": [
    {
     "data": {
      "text/plain": [
       "[]"
      ]
     },
     "execution_count": 394,
     "metadata": {},
     "output_type": "execute_result"
    }
   ],
   "source": [
    "result"
   ]
  },
  {
   "cell_type": "code",
   "execution_count": null,
   "metadata": {},
   "outputs": [],
   "source": []
  }
 ],
 "metadata": {
  "kernelspec": {
   "display_name": "Python 3.11.2 64-bit",
   "language": "python",
   "name": "python3"
  },
  "language_info": {
   "codemirror_mode": {
    "name": "ipython",
    "version": 3
   },
   "file_extension": ".py",
   "mimetype": "text/x-python",
   "name": "python",
   "nbconvert_exporter": "python",
   "pygments_lexer": "ipython3",
   "version": "3.11.2"
  },
  "orig_nbformat": 4,
  "vscode": {
   "interpreter": {
    "hash": "aee8b7b246df8f9039afb4144a1f6fd8d2ca17a180786b69acc140d282b71a49"
   }
  }
 },
 "nbformat": 4,
 "nbformat_minor": 2
}
