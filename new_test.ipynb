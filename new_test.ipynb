{
 "cells": [
  {
   "cell_type": "code",
   "execution_count": 716,
   "metadata": {},
   "outputs": [],
   "source": [
    "import os\n",
    "from langchain.text_splitter import RecursiveCharacterTextSplitter\n",
    "from langchain_google_genai import GoogleGenerativeAIEmbeddings\n",
    "import google.generativeai as genai\n",
    "from langchain.vectorstores import FAISS\n",
    "from langchain_google_genai import ChatGoogleGenerativeAI\n",
    "from langchain.chains.question_answering import load_qa_chain\n",
    "from langchain.prompts import PromptTemplate\n",
    "from langchain_core.documents.base import Document\n",
    "from langchain.memory import ConversationBufferMemory\n",
    "\n",
    "from dotenv import load_dotenv\n",
    "from vertexai.generative_models import (\n",
    "    SafetySetting,\n",
    "    HarmCategory,\n",
    "    HarmBlockThreshold,\n",
    ")\n",
    "\n",
    "load_dotenv()\n",
    "os.getenv(\"GOOGLE_API_KEY\")\n",
    "genai.configure(api_key=os.getenv(\"GOOGLE_API_KEY\"))"
   ]
  },
  {
   "cell_type": "code",
   "execution_count": 717,
   "metadata": {},
   "outputs": [],
   "source": [
    "messages = []\n",
    "\n",
    "def convert_to_str(messages):\n",
    "    ans = \"\"\n",
    "    for i in messages:\n",
    "        ans += i[0] + \" : \" + i[1] + \"\\n\"\n",
    "\n",
    "    return ans"
   ]
  },
  {
   "cell_type": "code",
   "execution_count": 718,
   "metadata": {},
   "outputs": [],
   "source": [
    "safety = [\n",
    "    SafetySetting(\n",
    "        category=HarmCategory.HARM_CATEGORY_UNSPECIFIED,\n",
    "        threshold=HarmBlockThreshold.BLOCK_NONE\n",
    "    ),\n",
    "    SafetySetting(\n",
    "        category=HarmCategory.HARM_CATEGORY_DANGEROUS_CONTENT,\n",
    "        threshold=HarmBlockThreshold.BLOCK_NONE\n",
    "    ),\n",
    "    SafetySetting(\n",
    "        category=HarmCategory.HARM_CATEGORY_HARASSMENT,\n",
    "        threshold=HarmBlockThreshold.BLOCK_NONE\n",
    "    ),\n",
    "    SafetySetting(\n",
    "        category=HarmCategory.HARM_CATEGORY_HATE_SPEECH,\n",
    "        threshold=HarmBlockThreshold.BLOCK_NONE\n",
    "    ),\n",
    "    SafetySetting(\n",
    "        category=HarmCategory.HARM_CATEGORY_SEXUALLY_EXPLICIT,\n",
    "        threshold=HarmBlockThreshold.BLOCK_NONE\n",
    "    )\n",
    "]"
   ]
  },
  {
   "cell_type": "code",
   "execution_count": 719,
   "metadata": {},
   "outputs": [],
   "source": [
    "model = ChatGoogleGenerativeAI(\n",
    "    model=\"gemini-pro\",\n",
    "    client=genai,\n",
    "    temperature=0.5,\n",
    "    safety_settings=None\n",
    ")\n",
    "\n",
    "embeddings = GoogleGenerativeAIEmbeddings(\n",
    "        model=\"models/embedding-001\")\n",
    "\n",
    "new_db = FAISS.load_local(\"faiss_index\", embeddings, allow_dangerous_deserialization=True) \n",
    "\n",
    "user_data = \"\"\"\n",
    "    USER DATA\n",
    "    ```\n",
    "        phone_no 932489237\n",
    "        name \"Raj Patel\"\n",
    "        email \"raja23@gmail.com\"\n",
    "        subscriptionStatus false\n",
    "\n",
    "        previousOrders ->\n",
    "        order_id \"ord123\"\n",
    "        status: \"Delivered\"\n",
    "        product: \n",
    "        name \"HRX Oversized T-Shirt\"\n",
    "        description \"Cotton-Comfy fit Oversized T-Shirt\"\n",
    "        category \"Clothing-Men-TShirt\"\n",
    "        average_rating 3\n",
    "        price 399\n",
    "    ```\n",
    "\"\"\"\n",
    "\n",
    "first_context = \"\"\"\n",
    "    Your name is Radhika from Amazon Customer Support Agent Team and you will be helping a customer today. \n",
    "\n",
    "    You will be speaking, so output text accordingly. \n",
    "\n",
    "    Do not verify anything about user because he is already verified.\n",
    "    \n",
    "    DO NOT SHARE USER DATA TO THE USER.\n",
    "\n",
    "    You should never ask them to contact Amazon Customer service, instead if you are unable to find the answer, forward the call to agent and terminate by [AGENT]\n",
    "\"\"\"\n",
    "\n",
    "initial_prompt_template = \"\"\"\n",
    "    {first_context}\n",
    "\n",
    "    {context}\n",
    "\n",
    "    User Question : Only try to answer this and add nothing else.\n",
    "    {user_input}\n",
    "\n",
    "    {user_data}\n",
    "\n",
    "    Previous Chat History:\n",
    "    This data below only shows the history of the conversation. Do not replicate it. Always answer according to User Input.\n",
    "    {chat_history}\n",
    "\n",
    "    WRITE [TERMINATE] IF THE USER IS SATISFIED\n",
    "    IF UNABLE TO FIND THE USER ANSWER IN CONTEXT, TRANSFER THE CALL TO AGENT BY [AGENT]\n",
    "\n",
    "    {ending_lines}\n",
    "\"\"\"\n",
    "\n",
    "prompt = PromptTemplate(\n",
    "    input_variables=[\"context\", \"user_input\", \"first_context\", \"user_data\", \"ending_lines\", \"chat_history\"],\n",
    "    template=initial_prompt_template\n",
    ")\n",
    "\n",
    "chain = load_qa_chain(llm=model, chain_type=\"stuff\", prompt = prompt)"
   ]
  },
  {
   "cell_type": "code",
   "execution_count": 720,
   "metadata": {},
   "outputs": [],
   "source": [
    "def filter_contexts(term):\n",
    "    contexts = new_db.similarity_search_with_score(term, k=3)\n",
    "\n",
    "    ans_contexts = []\n",
    "\n",
    "    for i in contexts:\n",
    "        print(i[1])\n",
    "        if(i[1] > 0.5):\n",
    "            ans_contexts.append(i[0])\n",
    "\n",
    "    return ans_contexts"
   ]
  },
  {
   "cell_type": "code",
   "execution_count": 721,
   "metadata": {},
   "outputs": [
    {
     "name": "stdout",
     "output_type": "stream",
     "text": [
      "0.4268624\n",
      "0.5001756\n",
      "0.50114465\n"
     ]
    },
    {
     "data": {
      "text/plain": [
       "{'output_text': \"I'm sorry to hear that you haven't received your order yet. I can help you find out the status of your order. Could you please provide me with your order number?\"}"
      ]
     },
     "execution_count": 721,
     "metadata": {},
     "output_type": "execute_result"
    }
   ],
   "source": [
    "#First Input\n",
    "user_question = \"Hi, I placed an order last week and I haven't received it yet. Can you help me find out the status of my order?\"\n",
    "context_user = filter_contexts(user_question)\n",
    "\n",
    "first_message = initial_prompt_template.format(first_context = first_context, input_documents = context_user, user_input = user_question, user_data = user_data, ending_lines = \"Your call is now live with the agent! Do not include anything of previous chat in replies. Use them to only generate future answers.\", context = '', chat_history = '')\n",
    "\n",
    "res = chain({\"first_context\": first_context, \n",
    "\"input_documents\": context_user, \n",
    "\"user_input\":  user_question, \n",
    "\"user_data\": \"User Data \\n\" + user_data, \n",
    "\"ending_lines\": \"Begin! Call is live with customer\", \n",
    "\"chat_history\": convert_to_str(messages)}, return_only_outputs=True)\n",
    "\n",
    "messages.append((\"system\", first_message))\n",
    "messages.append((\"agent\", res['output_text']))\n",
    "res"
   ]
  },
  {
   "cell_type": "code",
   "execution_count": 715,
   "metadata": {},
   "outputs": [
    {
     "name": "stdout",
     "output_type": "stream",
     "text": [
      "0.64912856\n",
      "0.69469887\n",
      "0.71312106\n"
     ]
    },
    {
     "data": {
      "text/plain": [
       "{'output_text': 'It is ORD-123'}"
      ]
     },
     "execution_count": 715,
     "metadata": {},
     "output_type": "execute_result"
    }
   ],
   "source": [
    "user_question = \"\"\"It is ORD-123\"\"\"\n",
    "context_user = filter_contexts(user_question)\n",
    "\n",
    "response = chain({\n",
    "    \"first_context\": \"\", \n",
    "    \"input_documents\": context_user, \n",
    "    \"user_input\": user_question, \n",
    "    \"user_data\": user_data, \n",
    "    \"ending_lines\": \"\", \n",
    "    \"chat_history\": convert_to_str(messages)\n",
    "}, return_only_outputs = True)\n",
    "\n",
    "messages.append((\"human\", user_question))\n",
    "messages.append((\"agent\", response['output_text']))\n",
    "response"
   ]
  },
  {
   "cell_type": "code",
   "execution_count": 651,
   "metadata": {},
   "outputs": [],
   "source": [
    "user_question = \"Okay, can you tell me something about me!\"\n",
    "context_user = new_db.similarity_search(user_question)\n",
    "\n",
    "response = chain({\n",
    "    \"first_context\": \"\",\n",
    "    \"input_documents\": \"\",\n",
    "    \"user_input\":  user_question,\n",
    "    \"user_data\": \"\", \"ending_lines\": \"\",\n",
    "    \"chat_history\": convert_to_str(messages)\n",
    "}, return_only_outputs = True)\n",
    "\n",
    "messages.append((\"human\", user_question))\n",
    "messages.append((\"agent\", response['output_text']))"
   ]
  },
  {
   "cell_type": "code",
   "execution_count": 652,
   "metadata": {},
   "outputs": [
    {
     "data": {
      "text/plain": [
       "{'output_text': '[TERMINATE]\\nThank you for calling Amazon!'}"
      ]
     },
     "execution_count": 652,
     "metadata": {},
     "output_type": "execute_result"
    }
   ],
   "source": [
    "response"
   ]
  },
  {
   "cell_type": "code",
   "execution_count": 653,
   "metadata": {},
   "outputs": [
    {
     "name": "stdout",
     "output_type": "stream",
     "text": [
      "0.5054102\n",
      "0.57055926\n",
      "0.6090071\n"
     ]
    }
   ],
   "source": [
    "user_question = \"Thank you for the answer!\"\n",
    "context_user = filter_contexts(user_question)\n",
    "\n",
    "response = chain({\n",
    "    \"first_context\": \"\",\n",
    "    \"input_documents\": context_user,\n",
    "    \"user_input\":  user_question,\n",
    "    \"user_data\": \"\", \"ending_lines\": \"\",\n",
    "    \"chat_history\": convert_to_str(messages)\n",
    "}, return_only_outputs = True)\n",
    "\n",
    "messages.append((\"human\", user_question))\n",
    "messages.append((\"agent\", response['output_text']))"
   ]
  },
  {
   "cell_type": "code",
   "execution_count": 654,
   "metadata": {},
   "outputs": [
    {
     "data": {
      "text/plain": [
       "{'output_text': 'Are you satisfied with my service?\\n[TERMINATE]\\nThank you for calling Amazon!'}"
      ]
     },
     "execution_count": 654,
     "metadata": {},
     "output_type": "execute_result"
    }
   ],
   "source": [
    "response"
   ]
  }
 ],
 "metadata": {
  "kernelspec": {
   "display_name": "Python 3.11.2 64-bit",
   "language": "python",
   "name": "python3"
  },
  "language_info": {
   "codemirror_mode": {
    "name": "ipython",
    "version": 3
   },
   "file_extension": ".py",
   "mimetype": "text/x-python",
   "name": "python",
   "nbconvert_exporter": "python",
   "pygments_lexer": "ipython3",
   "version": "3.11.2"
  },
  "orig_nbformat": 4,
  "vscode": {
   "interpreter": {
    "hash": "aee8b7b246df8f9039afb4144a1f6fd8d2ca17a180786b69acc140d282b71a49"
   }
  }
 },
 "nbformat": 4,
 "nbformat_minor": 2
}
