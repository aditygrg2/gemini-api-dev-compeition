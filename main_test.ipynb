{
 "cells": [
  {
   "cell_type": "code",
   "execution_count": 60,
   "metadata": {},
   "outputs": [],
   "source": [
    "from DuringChain import DuringChain"
   ]
  },
  {
   "cell_type": "code",
   "execution_count": 61,
   "metadata": {},
   "outputs": [],
   "source": [
    "user_data = \"\"\"\n",
    "                    [{      \n",
    "                \"phone_no\": 932489237,\n",
    "                \"name\": \"Raj Patel\",\n",
    "                \"address\": {\n",
    "                \"apartment_no\": \"223, Suryasthali Appartment\",\n",
    "                \"area_street\": \"Manavta Nagar\",\n",
    "                \"landmark\": \"Hanuman Mandir\",\n",
    "                \"town_city\": \"Bengaluru\",\n",
    "                \"state\": \"Karnataka\",\n",
    "                \"pincode\": 530068\n",
    "                },\n",
    "                \"email\": \"raja23@gmail.com\",\n",
    "                \"subscriptionStatus\": false,\n",
    "                \"previousOrders\": [\n",
    "                    {\n",
    "                \"order_id\": “20234435843-1107”,\n",
    "                \"status\": \"Delivered\",\n",
    "                \"transaction\": {\n",
    "                \"transaction_id\": \"txn123dsafasd\",\n",
    "                \"status\": \"Successful\",\n",
    "                \"payment_method\": \"Amazon Pay\",\n",
    "                \"total_amount\": 3000,\n",
    "                \"timestamp\": {\n",
    "                    \"$date\": \"2024-06-14T18:55:34.443Z\"\n",
    "                }\n",
    "                },\n",
    "                \"items\": [\n",
    "                \"product_id\": 3247387,\n",
    "                \"name\": \"HRX Oversized T-Shirt\",\n",
    "                \"description\": \"Cotton-Comfy fit Oversized T-Shirt\",\n",
    "                \"category\": \"Clothing-Men-TShirt\",\n",
    "                \"average_rating\": 3,\n",
    "                \"price\": 399,\n",
    "                \"reviews\": [\n",
    "                    \"Very Comfortable and Affordable\",\n",
    "                    \"Cheap and affordable\",\n",
    "                    \"Don't BUY AT ALLLL\"\n",
    "                ]\n",
    "                ],\n",
    "                \"\"\""
   ]
  },
  {
   "cell_type": "code",
   "execution_count": 70,
   "metadata": {},
   "outputs": [],
   "source": [
    "chain = DuringChain(user_data=user_data, user_query=\"Hi, I ordered a package two days ago and it was supposed to arrive today, but it hasn't shown up yet. Can you help me track it?\")"
   ]
  },
  {
   "cell_type": "code",
   "execution_count": 71,
   "metadata": {},
   "outputs": [
    {
     "data": {
      "text/plain": [
       "(<DuringChainStatus.IN_PROGRESS_GENERAL: 4>,\n",
       " 'I understand your concern about your package not arriving yet. Could you please provide me with your order ID so I can track it for you? ')"
      ]
     },
     "execution_count": 71,
     "metadata": {},
     "output_type": "execute_result"
    }
   ],
   "source": [
    "chat_instance = chain.initialize_model()\n",
    "chain.start_chat()"
   ]
  },
  {
   "cell_type": "code",
   "execution_count": 73,
   "metadata": {},
   "outputs": [
    {
     "name": "stdout",
     "output_type": "stream",
     "text": [
      "Unexpected exception formatting exception. Falling back to standard exception\n"
     ]
    },
    {
     "name": "stderr",
     "output_type": "stream",
     "text": [
      "Traceback (most recent call last):\n",
      "  File \"/Library/Frameworks/Python.framework/Versions/3.11/lib/python3.11/site-packages/IPython/core/interactiveshell.py\", line 3460, in run_code\n",
      "    exec(code_obj, self.user_global_ns, self.user_ns)\n",
      "  File \"/var/folders/xy/rmfdbtpx7xn2rzh8yn9k0y400000gn/T/ipykernel_69451/2972195089.py\", line 1, in <module>\n",
      "    chain.send_message(\"My order number is 34564743\")\n",
      "  File \"/Users/aditygrg/Downloads/ivr-llm/DuringChain.py\", line 231, in send_message\n",
      "    template=template\n",
      "                      \n",
      "IndexError: list index out of range\n",
      "\n",
      "During handling of the above exception, another exception occurred:\n",
      "\n",
      "Traceback (most recent call last):\n",
      "  File \"/Library/Frameworks/Python.framework/Versions/3.11/lib/python3.11/site-packages/IPython/core/interactiveshell.py\", line 2057, in showtraceback\n",
      "    stb = self.InteractiveTB.structured_traceback(\n",
      "          ^^^^^^^^^^^^^^^^^^^^^^^^^^^^^^^^^^^^^^^^\n",
      "  File \"/Library/Frameworks/Python.framework/Versions/3.11/lib/python3.11/site-packages/IPython/core/ultratb.py\", line 1288, in structured_traceback\n",
      "    return FormattedTB.structured_traceback(\n",
      "           ^^^^^^^^^^^^^^^^^^^^^^^^^^^^^^^^^\n",
      "  File \"/Library/Frameworks/Python.framework/Versions/3.11/lib/python3.11/site-packages/IPython/core/ultratb.py\", line 1177, in structured_traceback\n",
      "    return VerboseTB.structured_traceback(\n",
      "           ^^^^^^^^^^^^^^^^^^^^^^^^^^^^^^^\n",
      "  File \"/Library/Frameworks/Python.framework/Versions/3.11/lib/python3.11/site-packages/IPython/core/ultratb.py\", line 1030, in structured_traceback\n",
      "    formatted_exception = self.format_exception_as_a_whole(etype, evalue, etb, number_of_lines_of_context,\n",
      "                          ^^^^^^^^^^^^^^^^^^^^^^^^^^^^^^^^^^^^^^^^^^^^^^^^^^^^^^^^^^^^^^^^^^^^^^^^^^^^^^^^\n",
      "  File \"/Library/Frameworks/Python.framework/Versions/3.11/lib/python3.11/site-packages/IPython/core/ultratb.py\", line 960, in format_exception_as_a_whole\n",
      "    frames.append(self.format_record(record))\n",
      "                  ^^^^^^^^^^^^^^^^^^^^^^^^^^\n",
      "  File \"/Library/Frameworks/Python.framework/Versions/3.11/lib/python3.11/site-packages/IPython/core/ultratb.py\", line 870, in format_record\n",
      "    frame_info.lines, Colors, self.has_colors, lvals\n",
      "    ^^^^^^^^^^^^^^^^\n",
      "  File \"/Library/Frameworks/Python.framework/Versions/3.11/lib/python3.11/site-packages/IPython/core/ultratb.py\", line 704, in lines\n",
      "    return self._sd.lines\n",
      "           ^^^^^^^^^^^^^^\n",
      "  File \"/Library/Frameworks/Python.framework/Versions/3.11/lib/python3.11/site-packages/stack_data/utils.py\", line 144, in cached_property_wrapper\n",
      "    value = obj.__dict__[self.func.__name__] = self.func(obj)\n",
      "                                               ^^^^^^^^^^^^^^\n",
      "  File \"/Library/Frameworks/Python.framework/Versions/3.11/lib/python3.11/site-packages/stack_data/core.py\", line 734, in lines\n",
      "    pieces = self.included_pieces\n",
      "             ^^^^^^^^^^^^^^^^^^^^\n",
      "  File \"/Library/Frameworks/Python.framework/Versions/3.11/lib/python3.11/site-packages/stack_data/utils.py\", line 144, in cached_property_wrapper\n",
      "    value = obj.__dict__[self.func.__name__] = self.func(obj)\n",
      "                                               ^^^^^^^^^^^^^^\n",
      "  File \"/Library/Frameworks/Python.framework/Versions/3.11/lib/python3.11/site-packages/stack_data/core.py\", line 681, in included_pieces\n",
      "    pos = scope_pieces.index(self.executing_piece)\n",
      "                             ^^^^^^^^^^^^^^^^^^^^\n",
      "  File \"/Library/Frameworks/Python.framework/Versions/3.11/lib/python3.11/site-packages/stack_data/utils.py\", line 144, in cached_property_wrapper\n",
      "    value = obj.__dict__[self.func.__name__] = self.func(obj)\n",
      "                                               ^^^^^^^^^^^^^^\n",
      "  File \"/Library/Frameworks/Python.framework/Versions/3.11/lib/python3.11/site-packages/stack_data/core.py\", line 660, in executing_piece\n",
      "    return only(\n",
      "           ^^^^^\n",
      "  File \"/Library/Frameworks/Python.framework/Versions/3.11/lib/python3.11/site-packages/executing/executing.py\", line 190, in only\n",
      "    raise NotOneValueFound('Expected one value, found 0')\n",
      "executing.executing.NotOneValueFound: Expected one value, found 0\n"
     ]
    }
   ],
   "source": [
    "chain.send_message(\"My order number is 34564743\")"
   ]
  },
  {
   "cell_type": "code",
   "execution_count": 67,
   "metadata": {},
   "outputs": [
    {
     "name": "stdout",
     "output_type": "stream",
     "text": [
      "\n",
      "    Use the following pieces of context (JSON) which is everything of user data to answer the question at the end.\n",
      "    If you don't know the answer, just say that you don't know, don't try to make up an answer.\n",
      "\n",
      "    \n",
      "                    [{      \n",
      "                \"phone_no\": 932489237,\n",
      "                \"name\": \"Raj Patel\",\n",
      "                \"address\": {\n",
      "                \"apartment_no\": \"223, Suryasthali Appartment\",\n",
      "                \"area_street\": \"Manavta Nagar\",\n",
      "                \"landmark\": \"Hanuman Mandir\",\n",
      "                \"town_city\": \"Bengaluru\",\n",
      "                \"state\": \"Karnataka\",\n",
      "                \"pincode\": 530068\n",
      "                },\n",
      "                \"email\": \"raja23@gmail.com\",\n",
      "                \"subscriptionStatus\": false,\n",
      "                \"previousOrders\": [\n",
      "                    {\n",
      "                \"order_id\": “20234435843-1107”,\n",
      "                \"status\": \"Delivered\",\n",
      "                \"transaction\": {\n",
      "                \"transaction_id\": \"txn123dsafasd\",\n",
      "                \"status\": \"Successful\",\n",
      "                \"payment_method\": \"Amazon Pay\",\n",
      "                \"total_amount\": 3000,\n",
      "                \"timestamp\": {\n",
      "                    \"$date\": \"2024-06-14T18:55:34.443Z\"\n",
      "                }\n",
      "                },\n",
      "                \"items\": [\n",
      "                \"product_id\": 3247387,\n",
      "                \"name\": \"HRX Oversized T-Shirt\",\n",
      "                \"description\": \"Cotton-Comfy fit Oversized T-Shirt\",\n",
      "                \"category\": \"Clothing-Men-TShirt\",\n",
      "                \"average_rating\": 3,\n",
      "                \"price\": 399,\n",
      "                \"reviews\": [\n",
      "                    \"Very Comfortable and Affordable\",\n",
      "                    \"Cheap and affordable\",\n",
      "                    \"Don't BUY AT ALLLL\"\n",
      "                ]\n",
      "                ],\n",
      "                \n",
      "\n",
      "    Question: Find SLDJfks\n",
      "\n",
      "    Helpful Answer:\n"
     ]
    }
   ],
   "source": [
    "from enum import Enum\n",
    "import vertexai\n",
    "import os\n",
    "from vertexai.generative_models import GenerativeModel\n",
    "from langchain.prompts import PromptTemplate\n",
    "from langchain_google_genai import GoogleGenerativeAIEmbeddings\n",
    "import google.generativeai as genai\n",
    "from langchain_google_genai import ChatGoogleGenerativeAI\n",
    "from langchain.vectorstores import FAISS\n",
    "from vertexai.generative_models import (\n",
    "    FunctionDeclaration,\n",
    "    GenerationConfig,\n",
    "    GenerativeModel,\n",
    "    SafetySetting,\n",
    "    HarmCategory,\n",
    "    HarmBlockThreshold,\n",
    "    Part,\n",
    "    Tool,\n",
    ")\n",
    "\n",
    "template = \"\"\"\n",
    "    Use the following pieces of context (JSON) which is everything of user data to answer the question at the end.\n",
    "    If you don't know the answer, just say that you don't know, don't try to make up an answer.\n",
    "\n",
    "    {context}\n",
    "\n",
    "    Question: Find {question}\n",
    "\n",
    "    Helpful Answer:\"\"\"\n",
    "\n",
    "prompt = PromptTemplate(\n",
    "    input_variables=[\"context\", \"question\"],\n",
    "    template=template\n",
    ")\n",
    "\n",
    "model = GenerativeModel(\n",
    "    \"gemini-1.5-pro-001\",\n",
    "    generation_config=GenerationConfig(temperature=0.5),\n",
    "    safety_settings=None\n",
    ")\n",
    "\n",
    "sol = prompt.format(context = user_data, question = \"SLDJfks\")\n",
    "\n",
    "print(sol)\n",
    "\n",
    "chat = model.start_chat(response_validation = False)\n",
    "response = chat.send_message(sol)"
   ]
  },
  {
   "cell_type": "code",
   "execution_count": 69,
   "metadata": {},
   "outputs": [
    {
     "data": {
      "text/plain": [
       "'I cannot find the answer to your question in the provided data. \\n'"
      ]
     },
     "execution_count": 69,
     "metadata": {},
     "output_type": "execute_result"
    }
   ],
   "source": [
    "response.candidates[0].content.parts[0].text"
   ]
  },
  {
   "cell_type": "code",
   "execution_count": null,
   "metadata": {},
   "outputs": [],
   "source": []
  }
 ],
 "metadata": {
  "kernelspec": {
   "display_name": "Python 3.11.2 64-bit",
   "language": "python",
   "name": "python3"
  },
  "language_info": {
   "codemirror_mode": {
    "name": "ipython",
    "version": 3
   },
   "file_extension": ".py",
   "mimetype": "text/x-python",
   "name": "python",
   "nbconvert_exporter": "python",
   "pygments_lexer": "ipython3",
   "version": "3.11.2"
  },
  "orig_nbformat": 4,
  "vscode": {
   "interpreter": {
    "hash": "aee8b7b246df8f9039afb4144a1f6fd8d2ca17a180786b69acc140d282b71a49"
   }
  }
 },
 "nbformat": 4,
 "nbformat_minor": 2
}
