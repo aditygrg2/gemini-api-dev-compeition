{
 "cells": [
  {
   "cell_type": "code",
   "execution_count": 293,
   "metadata": {},
   "outputs": [],
   "source": [
    "import os\n",
    "\n",
    "PROJECT_ID = \"swift-kiln-380818\"\n",
    "LOCATION = \"us-central1\"\n",
    "\n",
    "os.environ[\"GOOGLE_APPLICATION_CREDENTIALS\"] = \"/Users/aditygrg/.config/gcloud/application_default_credentials.json\"\n",
    "\n",
    "import vertexai\n",
    "from vertexai.generative_models import GenerativeModel, ChatSession\n",
    "\n",
    "vertexai.init(location=LOCATION, project=PROJECT_ID)"
   ]
  },
  {
   "cell_type": "code",
   "execution_count": 294,
   "metadata": {},
   "outputs": [],
   "source": [
    "import requests\n",
    "from vertexai.generative_models import (\n",
    "    Content,\n",
    "    FunctionDeclaration,\n",
    "    GenerationConfig,\n",
    "    GenerativeModel,\n",
    "    SafetySetting,\n",
    "    HarmCategory,\n",
    "    HarmBlockThreshold,\n",
    "    Part,\n",
    "    Tool,\n",
    ")\n",
    "from vertexai.preview import rag"
   ]
  },
  {
   "cell_type": "code",
   "execution_count": 295,
   "metadata": {},
   "outputs": [],
   "source": [
    "user_verified = FunctionDeclaration(\n",
    "    name=\"user_verified\",\n",
    "    description=\"This is called when the user is successfully verified\",\n",
    "    parameters={\n",
    "        \"type\": \"object\",\n",
    "        \"properties\": {\"status\": {\"type\": \"boolean\"}},\n",
    "    },\n",
    ")\n",
    "\n",
    "get_user_data = FunctionDeclaration(\n",
    "    name=\"get_user_data\",\n",
    "    description=\"Get the info of the user to verify\",\n",
    "    parameters={\n",
    "        \"type\": \"object\",\n",
    "        \"properties\": {\"phone_number\": {\"type\": \"string\"}},\n",
    "    },\n",
    ")\n",
    "\n",
    "user_not_verified = FunctionDeclaration(\n",
    "    name=\"user_not_verified\",\n",
    "    description=\"This is called when user is not verified\",\n",
    "    parameters={\n",
    "        \"type\": \"object\",\n",
    "        \"properties\": {\"status\": {\"type\": \"boolean\"}},\n",
    "    },\n",
    ")"
   ]
  },
  {
   "cell_type": "code",
   "execution_count": 296,
   "metadata": {},
   "outputs": [],
   "source": [
    "#Implementation 1\n",
    "\n",
    "retail_tool = Tool(\n",
    "    function_declarations=[\n",
    "        get_user_data,\n",
    "        user_verified,\n",
    "        user_not_verified\n",
    "    ],\n",
    ")"
   ]
  },
  {
   "cell_type": "code",
   "execution_count": 297,
   "metadata": {},
   "outputs": [],
   "source": [
    "SYSTEM_INSTRUCTION = \"\"\"\n",
    "You are an Amazon Customer Support Agent and you are compassionate and assuring to help your user always!\n",
    "\n",
    "You need to always verify if you are talking to the same person as the account holder for security purposes.\n",
    "\n",
    "If there is no user_data, you can ask for his phone number and input it to the `find_data` function to get the data.\n",
    "\n",
    "After you have the data, you can verify then by asking pincode, city and state of the customer and matching it with the data.\n",
    "\n",
    "\n",
    "Only move ahead with query once you are able to verify pincode and address of the customer.\n",
    "\n",
    "Always start with: \"Welcome to Amazon! and a good greeting\"\n",
    "\"\"\""
   ]
  },
  {
   "cell_type": "code",
   "execution_count": 298,
   "metadata": {},
   "outputs": [],
   "source": [
    "model = GenerativeModel(\n",
    "    \"gemini-1.5-pro-001\",\n",
    "    generation_config=GenerationConfig(temperature=0.3),\n",
    "    tools=[retail_tool],\n",
    "    system_instruction=SYSTEM_INSTRUCTION\n",
    ")\n",
    "chat = model.start_chat(response_validation=False)"
   ]
  },
  {
   "cell_type": "code",
   "execution_count": 299,
   "metadata": {},
   "outputs": [
    {
     "data": {
      "text/plain": [
       "text: \"Welcome to Amazon! I hope you are having a good day. I understand you are facing some difficulties in ordering data. I would be happy to assist you with that. For security purposes, could you please provide me with the phone number associated with your account? \\n\""
      ]
     },
     "execution_count": 299,
     "metadata": {},
     "output_type": "execute_result"
    }
   ],
   "source": [
    "prompt = \"\"\"\n",
    "%User Query:\n",
    "\n",
    "I am facing some difficulties in ordering a data.\n",
    "\n",
    "User data:\n",
    "phone_no 932489237\n",
    "name \"Raj Patel\"\n",
    "email \"raja23@gmail.com\"\n",
    "subscriptionStatus false\n",
    "\n",
    "previousOrders ->\n",
    "order_id \"ord123\"\n",
    "status: \"Delivered\"\n",
    "product: \n",
    "name \"HRX Oversized T-Shirt\"\n",
    "description \"Cotton-Comfy fit Oversized T-Shirt\"\n",
    "category \"Clothing-Men-TShirt\"\n",
    "average_rating 3\n",
    "price 399\n",
    "Pincode: 262311\n",
    "City: Indore\n",
    "State: Madhya Pradesh\n",
    "\"\"\"\n",
    "\n",
    "response = chat.send_message(prompt)\n",
    "response.candidates[0].content.parts[0]"
   ]
  },
  {
   "cell_type": "code",
   "execution_count": 300,
   "metadata": {},
   "outputs": [],
   "source": [
    "safety_config = [\n",
    "            SafetySetting(\n",
    "                category=HarmCategory.HARM_CATEGORY_UNSPECIFIED,\n",
    "                threshold=HarmBlockThreshold.BLOCK_NONE\n",
    "            ),\n",
    "            SafetySetting(\n",
    "                category=HarmCategory.HARM_CATEGORY_DANGEROUS_CONTENT,\n",
    "                threshold=HarmBlockThreshold.BLOCK_NONE\n",
    "            ),\n",
    "            SafetySetting(\n",
    "                category=HarmCategory.HARM_CATEGORY_HARASSMENT,\n",
    "                threshold=HarmBlockThreshold.BLOCK_NONE\n",
    "            ),\n",
    "            SafetySetting(\n",
    "                category=HarmCategory.HARM_CATEGORY_HATE_SPEECH,\n",
    "                threshold=HarmBlockThreshold.BLOCK_NONE\n",
    "            ),\n",
    "            SafetySetting(\n",
    "                category=HarmCategory.HARM_CATEGORY_SEXUALLY_EXPLICIT,\n",
    "                threshold=HarmBlockThreshold.BLOCK_NONE\n",
    "            )\n",
    "        ]\n"
   ]
  },
  {
   "cell_type": "code",
   "execution_count": 301,
   "metadata": {},
   "outputs": [],
   "source": [
    "messages = [\n",
    "    (\"User\", prompt),\n",
    "    (\"AI\", \"Welcome to Amazon! Hope you are having a good day.\\n\\nI understand you are facing some difficulties in ordering data. I am more than happy to help!\\n\\nBefore we proceed, for security purposes, could you please provide me with the pin code associated with your Amazon account?\\n\"),\n",
    "    (\"Human\", \"I dont know my pin code\"),\n",
    "]"
   ]
  },
  {
   "cell_type": "code",
   "execution_count": 302,
   "metadata": {},
   "outputs": [],
   "source": [
    "def convert_to_str(messages):\n",
    "    ans = \"\"\n",
    "    for i in messages:\n",
    "        ans += i[0] + \" : \" + i[1] + \"\\n\"\n",
    "\n",
    "    return ans"
   ]
  },
  {
   "cell_type": "code",
   "execution_count": 304,
   "metadata": {},
   "outputs": [],
   "source": [
    "res = chat.send_message(convert_to_str(messages), safety_settings=safety_config)"
   ]
  },
  {
   "cell_type": "code",
   "execution_count": 305,
   "metadata": {},
   "outputs": [
    {
     "data": {
      "text/plain": [
       "function_call {\n",
       "  name: \"get_user_data\"\n",
       "  args {\n",
       "    fields {\n",
       "      key: \"phone_number\"\n",
       "      value {\n",
       "        string_value: \"932489237\"\n",
       "      }\n",
       "    }\n",
       "  }\n",
       "}"
      ]
     },
     "execution_count": 305,
     "metadata": {},
     "output_type": "execute_result"
    }
   ],
   "source": [
    "res.candidates[0].content.parts[0]"
   ]
  },
  {
   "cell_type": "code",
   "execution_count": 306,
   "metadata": {},
   "outputs": [],
   "source": [
    "messages = [\n",
    "    (\"User\", prompt),\n",
    "    (\"AI\", \"Welcome to Amazon! Hope you are having a good day.\\n\\nI understand you are facing some difficulties in ordering data. I am more than happy to help!\\n\\nBefore we proceed, for security purposes, could you please provide me with the pin code associated with your Amazon account?\\n\"),\n",
    "    (\"Human\", \"I dont know my pin code\"),\n",
    "    (\"AI\", \"That\\'s alright! Can you please provide me with the city and state associated with your Amazon account? \\n\"),\n",
    "    (\"Human\", \"My city is Indore\")\n",
    "]"
   ]
  },
  {
   "cell_type": "code",
   "execution_count": 307,
   "metadata": {},
   "outputs": [],
   "source": [
    "res = chat.send_message(convert_to_str(messages), safety_settings=safety_config)"
   ]
  },
  {
   "cell_type": "code",
   "execution_count": 308,
   "metadata": {},
   "outputs": [
    {
     "data": {
      "text/plain": [
       "candidates {\n",
       "  content {\n",
       "    role: \"model\"\n",
       "    parts {\n",
       "      text: \"That\\'s alright! Could you please also tell me the state associated with your Amazon account? \\n\"\n",
       "    }\n",
       "  }\n",
       "  finish_reason: STOP\n",
       "  safety_ratings {\n",
       "    category: HARM_CATEGORY_HATE_SPEECH\n",
       "    probability: NEGLIGIBLE\n",
       "    probability_score: 0.0987725928\n",
       "    severity: HARM_SEVERITY_NEGLIGIBLE\n",
       "    severity_score: 0.103930376\n",
       "  }\n",
       "  safety_ratings {\n",
       "    category: HARM_CATEGORY_DANGEROUS_CONTENT\n",
       "    probability: NEGLIGIBLE\n",
       "    probability_score: 0.318061382\n",
       "    severity: HARM_SEVERITY_LOW\n",
       "    severity_score: 0.341582507\n",
       "  }\n",
       "  safety_ratings {\n",
       "    category: HARM_CATEGORY_HARASSMENT\n",
       "    probability: NEGLIGIBLE\n",
       "    probability_score: 0.107812636\n",
       "    severity: HARM_SEVERITY_NEGLIGIBLE\n",
       "    severity_score: 0.0872522444\n",
       "  }\n",
       "  safety_ratings {\n",
       "    category: HARM_CATEGORY_SEXUALLY_EXPLICIT\n",
       "    probability: NEGLIGIBLE\n",
       "    probability_score: 0.105210543\n",
       "    severity: HARM_SEVERITY_NEGLIGIBLE\n",
       "    severity_score: 0.0699218363\n",
       "  }\n",
       "}\n",
       "usage_metadata {\n",
       "  prompt_token_count: 868\n",
       "  candidates_token_count: 21\n",
       "  total_token_count: 889\n",
       "}"
      ]
     },
     "execution_count": 308,
     "metadata": {},
     "output_type": "execute_result"
    }
   ],
   "source": [
    "res"
   ]
  },
  {
   "cell_type": "code",
   "execution_count": 309,
   "metadata": {},
   "outputs": [],
   "source": [
    "messages = [\n",
    "    (\"User\", prompt),\n",
    "    (\"AI\", \"Welcome to Amazon! Hope you are having a good day.\\n\\nI understand you are facing some difficulties in ordering data. I am more than happy to help!\\n\\nBefore we proceed, for security purposes, could you please provide me with the pin code associated with your Amazon account?\\n\"),\n",
    "    (\"Human\", \"I dont know my pin code\"),\n",
    "    (\"AI\", \"That\\'s alright! Can you please provide me with the city and state associated with your Amazon account? \\n\"),\n",
    "    (\"Human\", \"My city is Indore\"),\n",
    "    (\"AI\", \"That\\'s alright! Could you please also tell me the state associated with your Amazon account? \\n\"),\n",
    "    (\"Human\", \"Madhya Pradesh\")\n",
    "]"
   ]
  },
  {
   "cell_type": "code",
   "execution_count": 310,
   "metadata": {},
   "outputs": [],
   "source": [
    "res = chat.send_message(convert_to_str(messages), safety_settings=safety_config)"
   ]
  },
  {
   "cell_type": "code",
   "execution_count": 311,
   "metadata": {},
   "outputs": [
    {
     "data": {
      "text/plain": [
       "candidates {\n",
       "  content {\n",
       "    role: \"model\"\n",
       "    parts {\n",
       "      function_call {\n",
       "        name: \"get_user_data\"\n",
       "        args {\n",
       "          fields {\n",
       "            key: \"phone_number\"\n",
       "            value {\n",
       "              string_value: \"932489237\"\n",
       "            }\n",
       "          }\n",
       "        }\n",
       "      }\n",
       "    }\n",
       "  }\n",
       "  finish_reason: STOP\n",
       "  safety_ratings {\n",
       "    category: HARM_CATEGORY_HATE_SPEECH\n",
       "    probability: NEGLIGIBLE\n",
       "    probability_score: 0.192084283\n",
       "    severity: HARM_SEVERITY_NEGLIGIBLE\n",
       "    severity_score: 0.114963353\n",
       "  }\n",
       "  safety_ratings {\n",
       "    category: HARM_CATEGORY_DANGEROUS_CONTENT\n",
       "    probability: MEDIUM\n",
       "    probability_score: 0.751648128\n",
       "    severity: HARM_SEVERITY_MEDIUM\n",
       "    severity_score: 0.544619739\n",
       "  }\n",
       "  safety_ratings {\n",
       "    category: HARM_CATEGORY_HARASSMENT\n",
       "    probability: NEGLIGIBLE\n",
       "    probability_score: 0.169131249\n",
       "    severity: HARM_SEVERITY_NEGLIGIBLE\n",
       "    severity_score: 0.134094119\n",
       "  }\n",
       "  safety_ratings {\n",
       "    category: HARM_CATEGORY_SEXUALLY_EXPLICIT\n",
       "    probability: NEGLIGIBLE\n",
       "    probability_score: 0.207857162\n",
       "    severity: HARM_SEVERITY_NEGLIGIBLE\n",
       "    severity_score: 0.0726367\n",
       "  }\n",
       "}\n",
       "usage_metadata {\n",
       "  prompt_token_count: 1167\n",
       "  candidates_token_count: 17\n",
       "  total_token_count: 1184\n",
       "}"
      ]
     },
     "execution_count": 311,
     "metadata": {},
     "output_type": "execute_result"
    }
   ],
   "source": [
    "res"
   ]
  },
  {
   "cell_type": "code",
   "execution_count": null,
   "metadata": {},
   "outputs": [],
   "source": [
    "response_confirm = res"
   ]
  },
  {
   "cell_type": "code",
   "execution_count": null,
   "metadata": {},
   "outputs": [
    {
     "name": "stdout",
     "output_type": "stream",
     "text": [
      "True\n"
     ]
    }
   ],
   "source": [
    "print(not response_confirm.candidates[0].content.parts[0].function_call)"
   ]
  },
  {
   "cell_type": "code",
   "execution_count": 312,
   "metadata": {},
   "outputs": [
    {
     "data": {
      "text/plain": [
       "content {\n",
       "  role: \"model\"\n",
       "  parts {\n",
       "    function_call {\n",
       "      name: \"get_user_data\"\n",
       "      args {\n",
       "        fields {\n",
       "          key: \"phone_number\"\n",
       "          value {\n",
       "            string_value: \"932489237\"\n",
       "          }\n",
       "        }\n",
       "      }\n",
       "    }\n",
       "  }\n",
       "}\n",
       "finish_reason: STOP\n",
       "safety_ratings {\n",
       "  category: HARM_CATEGORY_HATE_SPEECH\n",
       "  probability: NEGLIGIBLE\n",
       "  probability_score: 0.192084283\n",
       "  severity: HARM_SEVERITY_NEGLIGIBLE\n",
       "  severity_score: 0.114963353\n",
       "}\n",
       "safety_ratings {\n",
       "  category: HARM_CATEGORY_DANGEROUS_CONTENT\n",
       "  probability: MEDIUM\n",
       "  probability_score: 0.751648128\n",
       "  severity: HARM_SEVERITY_MEDIUM\n",
       "  severity_score: 0.544619739\n",
       "}\n",
       "safety_ratings {\n",
       "  category: HARM_CATEGORY_HARASSMENT\n",
       "  probability: NEGLIGIBLE\n",
       "  probability_score: 0.169131249\n",
       "  severity: HARM_SEVERITY_NEGLIGIBLE\n",
       "  severity_score: 0.134094119\n",
       "}\n",
       "safety_ratings {\n",
       "  category: HARM_CATEGORY_SEXUALLY_EXPLICIT\n",
       "  probability: NEGLIGIBLE\n",
       "  probability_score: 0.207857162\n",
       "  severity: HARM_SEVERITY_NEGLIGIBLE\n",
       "  severity_score: 0.0726367\n",
       "}"
      ]
     },
     "execution_count": 312,
     "metadata": {},
     "output_type": "execute_result"
    }
   ],
   "source": [
    "res.candidates[0]"
   ]
  },
  {
   "cell_type": "code",
   "execution_count": null,
   "metadata": {},
   "outputs": [
    {
     "data": {
      "text/plain": [
       "text: \"Sorry, we were unable to verify your details. Thank you for contacting Amazon! \\n\""
      ]
     },
     "execution_count": 58,
     "metadata": {},
     "output_type": "execute_result"
    }
   ],
   "source": [
    "response = chat.send_message(\n",
    "    Part.from_function_response(\n",
    "        name=\"user_not_verified\",\n",
    "        response={\n",
    "            \"content\": \"Sorry, we were unable to verify your details. Thank you for contacting Amazon!\",\n",
    "        },\n",
    "    ),\n",
    ")\n",
    "response.candidates[0].content.parts[0]"
   ]
  },
  {
   "cell_type": "code",
   "execution_count": null,
   "metadata": {},
   "outputs": [],
   "source": [
    "prompt = \"\"\"\n",
    "What about the Pixel 8? Is there a store in\n",
    "Mountain View, CA that I can visit to try one out?\n",
    "\"\"\"\n",
    "\n",
    "response = chat.send_message(prompt)\n",
    "response.candidates[0].content.parts[0]"
   ]
  },
  {
   "cell_type": "code",
   "execution_count": null,
   "metadata": {},
   "outputs": [],
   "source": [
    "# Here you can use your preferred method to make an API request and get a response.\n",
    "# In this example, we'll use synthetic data to simulate a payload from an external API response.\n",
    "\n",
    "api_response = {\"store\": \"2000 N Shoreline Blvd, Mountain View, CA 94043, US\"}"
   ]
  },
  {
   "cell_type": "code",
   "execution_count": null,
   "metadata": {},
   "outputs": [],
   "source": [
    "response = chat.send_message(\n",
    "    Part.from_function_response(\n",
    "        name=\"get_store_location\",\n",
    "        response={\n",
    "            \"content\": api_response,\n",
    "        },\n",
    "    ),\n",
    ")\n",
    "response.candidates[0].content.parts[0]"
   ]
  },
  {
   "cell_type": "code",
   "execution_count": null,
   "metadata": {},
   "outputs": [],
   "source": [
    "api_response = {\"sku\": \"GA08475-US\", \"in_stock\": \"yes\"}"
   ]
  },
  {
   "cell_type": "code",
   "execution_count": null,
   "metadata": {},
   "outputs": [],
   "source": [
    "response = chat.send_message(\n",
    "    Part.from_function_response(\n",
    "        name=\"get_product_info\",\n",
    "        response={\n",
    "            \"content\": api_response,\n",
    "        },\n",
    "    ),\n",
    ")\n",
    "response.candidates[0].content.parts[0]"
   ]
  },
  {
   "cell_type": "code",
   "execution_count": null,
   "metadata": {},
   "outputs": [],
   "source": [
    "prompt = \"\"\"\n",
    "I'd like to order a Pixel 8 Pro and have it shipped to 1155 Borregas Ave, Sunnyvale, CA 94089.\n",
    "\"\"\"\n",
    "\n",
    "response = chat.send_message(prompt)\n",
    "response.candidates[0].content.parts[0]"
   ]
  },
  {
   "cell_type": "code",
   "execution_count": null,
   "metadata": {},
   "outputs": [],
   "source": [
    "api_response = {\n",
    "    \"payment_status\": \"paid\",\n",
    "    \"order_number\": 12345,\n",
    "    \"est_arrival\": \"2 days\",\n",
    "}"
   ]
  },
  {
   "cell_type": "code",
   "execution_count": null,
   "metadata": {},
   "outputs": [],
   "source": [
    "response = chat.send_message(\n",
    "    Part.from_function_response(\n",
    "        name=\"place_order\",\n",
    "        response={\n",
    "            \"content\": api_response,\n",
    "        },\n",
    "    ),\n",
    ")\n",
    "response.candidates[0].content.parts[0]"
   ]
  }
 ],
 "metadata": {
  "kernelspec": {
   "display_name": "Python 3.11.2 64-bit",
   "language": "python",
   "name": "python3"
  },
  "language_info": {
   "codemirror_mode": {
    "name": "ipython",
    "version": 3
   },
   "file_extension": ".py",
   "mimetype": "text/x-python",
   "name": "python",
   "nbconvert_exporter": "python",
   "pygments_lexer": "ipython3",
   "version": "3.11.2"
  },
  "orig_nbformat": 4,
  "vscode": {
   "interpreter": {
    "hash": "aee8b7b246df8f9039afb4144a1f6fd8d2ca17a180786b69acc140d282b71a49"
   }
  }
 },
 "nbformat": 4,
 "nbformat_minor": 2
}
