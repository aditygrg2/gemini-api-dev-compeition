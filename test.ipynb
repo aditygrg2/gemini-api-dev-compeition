{
 "cells": [
  {
   "cell_type": "code",
   "execution_count": 7,
   "metadata": {},
   "outputs": [],
   "source": []
  },
  {
   "cell_type": "code",
   "execution_count": 8,
   "metadata": {},
   "outputs": [],
   "source": [
    "user_data = \"\"\"\n",
    "User Phone Number: 932489237\n",
    "\n",
    "\n",
    "    [{      \n",
    "\"name\": \"Raj Patel\",\n",
    "\"address\": {\n",
    "\"apartment_no\": \"223, Suryasthali Appartment\",\n",
    "\"area_street\": \"Manavta Nagar\",\n",
    "\"landmark\": \"Hanuman Mandir\",\n",
    "\"town_city\": \"Bengaluru\",\n",
    "\"state\": \"Karnataka\",\n",
    "\"pincode\": 530068\n",
    "},\n",
    "\"email\": \"raja23@gmail.com\",\n",
    "\"subscriptionStatus\": false,\n",
    "\"previousOrders\": [\n",
    "    {\n",
    "\"order_id\": “20234435843-1107”,\n",
    "\"status\": \"Delivered\",\n",
    "\"transaction\": {\n",
    "\"transaction_id\": \"txn123dsafasd\",\n",
    "\"status\": \"Successful\",\n",
    "\"payment_method\": \"Amazon Pay\",\n",
    "\"total_amount\": 3000,\n",
    "\"timestamp\": {\n",
    "    \"$date\": \"2024-06-14T18:55:34.443Z\"\n",
    "}\n",
    "},\n",
    "\"items\": [\n",
    "\"product_id\": 3247387,\n",
    "\"name\": \"HRX Oversized T-Shirt\",\n",
    "\"description\": \"Cotton-Comfy fit Oversized T-Shirt\",\n",
    "\"category\": \"Clothing-Men-TShirt\",\n",
    "\"average_rating\": 3,\n",
    "\"price\": 399,\n",
    "\"reviews\": [\n",
    "    \"Very Comfortable and Affordable\",\n",
    "    \"Cheap and affordable\",\n",
    "    \"Don't BUY AT ALLLL\"\n",
    "]\n",
    "],\n",
    "\"\"\""
   ]
  },
  {
   "cell_type": "code",
   "execution_count": 9,
   "metadata": {},
   "outputs": [],
   "source": [
    "chain = VerificationChain(user_data=user_data)"
   ]
  },
  {
   "cell_type": "code",
   "execution_count": 10,
   "metadata": {},
   "outputs": [
    {
     "name": "stdout",
     "output_type": "stream",
     "text": [
      "Welcome to Amazon! I hope you are having a good day. Could you please confirm your pincode for verification? \n",
      "\n"
     ]
    },
    {
     "data": {
      "text/plain": [
       "(<Status.IN_PROGRESS: 2>, 'TODO')"
      ]
     },
     "execution_count": 10,
     "metadata": {},
     "output_type": "execute_result"
    }
   ],
   "source": [
    "chain.start_chat()"
   ]
  },
  {
   "cell_type": "code",
   "execution_count": 11,
   "metadata": {},
   "outputs": [
    {
     "data": {
      "text/plain": [
       "[role: \"user\"\n",
       " parts {\n",
       "   text: \"\\nUser Phone Number: 932489237\\n\\n\\n    [{      \\n\\\"name\\\": \\\"Raj Patel\\\",\\n\\\"address\\\": {\\n\\\"apartment_no\\\": \\\"223, Suryasthali Appartment\\\",\\n\\\"area_street\\\": \\\"Manavta Nagar\\\",\\n\\\"landmark\\\": \\\"Hanuman Mandir\\\",\\n\\\"town_city\\\": \\\"Bengaluru\\\",\\n\\\"state\\\": \\\"Karnataka\\\",\\n\\\"pincode\\\": 530068\\n},\\n\\\"email\\\": \\\"raja23@gmail.com\\\",\\n\\\"subscriptionStatus\\\": false,\\n\\\"previousOrders\\\": [\\n    {\\n\\\"order_id\\\": “20234435843-1107”,\\n\\\"status\\\": \\\"Delivered\\\",\\n\\\"transaction\\\": {\\n\\\"transaction_id\\\": \\\"txn123dsafasd\\\",\\n\\\"status\\\": \\\"Successful\\\",\\n\\\"payment_method\\\": \\\"Amazon Pay\\\",\\n\\\"total_amount\\\": 3000,\\n\\\"timestamp\\\": {\\n    \\\"$date\\\": \\\"2024-06-14T18:55:34.443Z\\\"\\n}\\n},\\n\\\"items\\\": [\\n\\\"product_id\\\": 3247387,\\n\\\"name\\\": \\\"HRX Oversized T-Shirt\\\",\\n\\\"description\\\": \\\"Cotton-Comfy fit Oversized T-Shirt\\\",\\n\\\"category\\\": \\\"Clothing-Men-TShirt\\\",\\n\\\"average_rating\\\": 3,\\n\\\"price\\\": 399,\\n\\\"reviews\\\": [\\n    \\\"Very Comfortable and Affordable\\\",\\n    \\\"Cheap and affordable\\\",\\n    \\\"Don\\'t BUY AT ALLLL\\\"\\n]\\n],\\n\"\n",
       " },\n",
       " role: \"model\"\n",
       " parts {\n",
       "   function_call {\n",
       "     name: \"get_user_data\"\n",
       "     args {\n",
       "       fields {\n",
       "         key: \"phone_number\"\n",
       "         value {\n",
       "           number_value: 932489237\n",
       "         }\n",
       "       }\n",
       "     }\n",
       "   }\n",
       " },\n",
       " role: \"user\"\n",
       " parts {\n",
       "   function_response {\n",
       "     name: \"get_user_data\"\n",
       "     response {\n",
       "       fields {\n",
       "         key: \"content\"\n",
       "         value {\n",
       "           string_value: \"response from API\"\n",
       "         }\n",
       "       }\n",
       "     }\n",
       "   }\n",
       " },\n",
       " role: \"model\"\n",
       " parts {\n",
       "   text: \"Welcome to Amazon! I hope you are having a good day. Could you please confirm your pincode for verification? \\n\"\n",
       " }]"
      ]
     },
     "execution_count": 11,
     "metadata": {},
     "output_type": "execute_result"
    }
   ],
   "source": [
    "chain.chat_instance.history"
   ]
  },
  {
   "cell_type": "code",
   "execution_count": 13,
   "metadata": {},
   "outputs": [
    {
     "data": {
      "text/plain": [
       "(<Status.VERIFIED: 1>, 'Thank you for verifying your details.')"
      ]
     },
     "execution_count": 13,
     "metadata": {},
     "output_type": "execute_result"
    }
   ],
   "source": [
    "response = chain.send_message(\"Karnataka\")\n",
    "\n",
    "if(response == Status.VERIFIED):\n",
    "    # Start DuringChain here\n",
    "else:\n",
    "    return the call;"
   ]
  },
  {
   "cell_type": "code",
   "execution_count": null,
   "metadata": {},
   "outputs": [],
   "source": []
  }
 ],
 "metadata": {
  "kernelspec": {
   "display_name": "Python 3.11.2 64-bit",
   "language": "python",
   "name": "python3"
  },
  "language_info": {
   "codemirror_mode": {
    "name": "ipython",
    "version": 3
   },
   "file_extension": ".py",
   "mimetype": "text/x-python",
   "name": "python",
   "nbconvert_exporter": "python",
   "pygments_lexer": "ipython3",
   "version": "3.11.2"
  },
  "orig_nbformat": 4,
  "vscode": {
   "interpreter": {
    "hash": "aee8b7b246df8f9039afb4144a1f6fd8d2ca17a180786b69acc140d282b71a49"
   }
  }
 },
 "nbformat": 4,
 "nbformat_minor": 2
}
